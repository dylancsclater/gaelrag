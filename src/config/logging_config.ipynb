{
 "cells": [
  {
   "cell_type": "code",
   "execution_count": 5,
   "id": "cd622a83-16d4-40ce-a84f-e032df56f1a5",
   "metadata": {
    "collapsed": true,
    "jupyter": {
     "outputs_hidden": true
    },
    "tags": []
   },
   "outputs": [
    {
     "ename": "ModuleNotFoundError",
     "evalue": "No module named 'CONFIG'",
     "output_type": "error",
     "traceback": [
      "\u001b[0;31m---------------------------------------------------------------------------\u001b[0m",
      "\u001b[0;31mModuleNotFoundError\u001b[0m                       Traceback (most recent call last)",
      "Cell \u001b[0;32mIn[5], line 4\u001b[0m\n\u001b[1;32m      2\u001b[0m \u001b[38;5;28;01mimport\u001b[39;00m \u001b[38;5;21;01mlogging\u001b[39;00m\n\u001b[1;32m      3\u001b[0m \u001b[38;5;28;01mimport\u001b[39;00m \u001b[38;5;21;01msys\u001b[39;00m\n\u001b[0;32m----> 4\u001b[0m \u001b[38;5;28;01mimport\u001b[39;00m \u001b[38;5;21;01mCONFIG\u001b[39;00m\n\u001b[1;32m      6\u001b[0m \u001b[38;5;28;01mdef\u001b[39;00m \u001b[38;5;21msetup_logger\u001b[39m():\n\u001b[1;32m      7\u001b[0m     logging\u001b[38;5;241m.\u001b[39mbasicConfig(stream\u001b[38;5;241m=\u001b[39msys\u001b[38;5;241m.\u001b[39mstdout, level\u001b[38;5;241m=\u001b[39mlogging\u001b[38;5;241m.\u001b[39mINFO)\n",
      "\u001b[0;31mModuleNotFoundError\u001b[0m: No module named 'CONFIG'"
     ]
    }
   ],
   "source": [
    "# config/logger_config.py\n",
    "import logging\n",
    "import sys\n",
    "import CONFIG\n",
    "\n",
    "def setup_logger():\n",
    "    logging.basicConfig(stream=sys.stdout, level=logging.INFO)\n",
    "    logger = logging.getLogger()\n",
    "    logger.addHandler(logging.StreamHandler(stream=sys.stdout))\n",
    "    return logger"
   ]
  },
  {
   "cell_type": "code",
   "execution_count": null,
   "id": "f81d5b80-1b2a-4ae6-ac89-53257b03a0af",
   "metadata": {},
   "outputs": [],
   "source": []
  }
 ],
 "metadata": {
  "kernelspec": {
   "display_name": "GaelRag (LlamaIndex)",
   "language": "python",
   "name": "gaelrag"
  },
  "language_info": {
   "codemirror_mode": {
    "name": "ipython",
    "version": 3
   },
   "file_extension": ".py",
   "mimetype": "text/x-python",
   "name": "python",
   "nbconvert_exporter": "python",
   "pygments_lexer": "ipython3",
   "version": "3.12.1"
  }
 },
 "nbformat": 4,
 "nbformat_minor": 5
}
