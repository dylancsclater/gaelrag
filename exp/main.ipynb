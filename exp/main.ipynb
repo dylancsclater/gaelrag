{
 "cells": [
  {
   "cell_type": "code",
   "execution_count": 1,
   "id": "6a07503d-f219-4d9a-adf3-f628f5122e1f",
   "metadata": {},
   "outputs": [],
   "source": [
    "from fastapi import FastAPI, HTTPException\n",
    "from typing import Optional\n",
    "import asyncio\n",
    "\n",
    "app = FastAPI()\n",
    "\n",
    "async def call_llm_async(query: str) -> str:\n",
    "    \"\"\"\n",
    "    Simulate an async call to your language model (LLM).\n",
    "    Replace this function's body with your actual LLM call.\n",
    "    \"\"\"\n",
    "    # Simulate network delay\n",
    "    await asyncio.sleep(1)\n",
    "    return f\"Response to '{query}'\"\n",
    "\n",
    "@app.get(\"/get_response\")\n",
    "async def get_response(query: Optional[str] = None):\n",
    "    \"\"\"\n",
    "    Endpoint to get a response from the LLM for a given query.\n",
    "    \"\"\"\n",
    "    if not query:\n",
    "        raise HTTPException(status_code=400, detail=\"Query parameter is required\")\n",
    "\n",
    "    response = await call_llm_async(query)\n",
    "    return {\"query\": query, \"response\": response}\n"
   ]
  }
 ],
 "metadata": {
  "kernelspec": {
   "display_name": "GaelRag (LlamaIndex)",
   "language": "python",
   "name": "gaelrag"
  },
  "language_info": {
   "codemirror_mode": {
    "name": "ipython",
    "version": 3
   },
   "file_extension": ".py",
   "mimetype": "text/x-python",
   "name": "python",
   "nbconvert_exporter": "python",
   "pygments_lexer": "ipython3",
   "version": "3.12.1"
  }
 },
 "nbformat": 4,
 "nbformat_minor": 5
}
