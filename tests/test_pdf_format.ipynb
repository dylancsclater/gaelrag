{
 "cells": [
  {
   "cell_type": "code",
   "execution_count": 3,
   "id": "de850a7a-3da0-48a5-b248-be8e1d74b6b3",
   "metadata": {},
   "outputs": [],
   "source": [
    "import pytest\n",
    "from pypdf import PdfReader\n",
    "from pypdf.errors import PdfReadError\n",
    "\n",
    "def test_is_pdf_format():\n",
    "    file_path = '../data/inbound/gael.pdf'\n",
    "    try:\n",
    "        with open(file_path, 'rb') as file:\n",
    "            pdf = PdfReader(file)\n",
    "            assert pdf.is_encrypted == False\n",
    "    except PdfReadError:\n",
    "        pytest.fail(f\"The file at {file_path} is not in PDF format.\")\n"
   ]
  }
 ],
 "metadata": {
  "kernelspec": {
   "display_name": "GaelRag (LlamaIndex)",
   "language": "python",
   "name": "gaelrag"
  },
  "language_info": {
   "codemirror_mode": {
    "name": "ipython",
    "version": 3
   },
   "file_extension": ".py",
   "mimetype": "text/x-python",
   "name": "python",
   "nbconvert_exporter": "python",
   "pygments_lexer": "ipython3",
   "version": "3.12.1"
  }
 },
 "nbformat": 4,
 "nbformat_minor": 5
}
