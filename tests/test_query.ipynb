{
 "cells": [
  {
   "cell_type": "code",
   "execution_count": 25,
   "id": "9333162f-4f0b-4ca7-b1cb-3b371cb6c444",
   "metadata": {},
   "outputs": [],
   "source": [
    "import logging\n",
    "import pytest\n",
    "import sys\n",
    "from dotenv import load_dotenv\n",
    "import os\n",
    "from pinecone import Pinecone\n",
    "from llama_index.core import (\n",
    "    VectorStoreIndex,\n",
    "    SimpleDirectoryReader,\n",
    "    StorageContext,\n",
    ")\n",
    "from llama_index.vector_stores.pinecone import PineconeVectorStore\n",
    "\n",
    "# Load environment variables from .env file\n",
    "load_dotenv()\n",
    "\n",
    "pinecone_api_key = os.environ.get('PINECONE_API_KEY')\n",
    "\n",
    "@pytest.fixture(scope=\"module\")\n",
    "def pinecone_api_key():\n",
    "    return os.environ.get('PINECONE_API_KEY')\n",
    "\n",
    "@pytest.fixture(scope=\"module\")\n",
    "def pinecone_index(pinecone_api_key):\n",
    "    if pinecone_api_key is None:\n",
    "        pytest.skip(\"PINECONE_API_KEY environment variable is not set.\")\n",
    "    pinecone = Pinecone(api_key=pinecone_api_key)\n",
    "    return PineconeVectorStore(pinecone.Index(\"gael\"))\n",
    "\n",
    "def test_pinecone_connection(pinecone_api_key):\n",
    "    assert pinecone_api_key is not None, \"PINECONE_API_KEY is not set.\"\n",
    "\n",
    "def test_llama_index_query(pinecone_index):\n",
    "    vector_store = pinecone_index\n",
    "    index = VectorStoreIndex.from_vector_store(vector_store=vector_store)\n",
    "    query_engine = index.as_query_engine()\n",
    "    response = query_engine.query(\"What is attention and why do I need it?\")\n",
    "    assert response is not None, \"Query to LlamaIndex did not return a response.\""
   ]
  }
 ],
 "metadata": {
  "kernelspec": {
   "display_name": "GaelRag (LlamaIndex)",
   "language": "python",
   "name": "gaelrag"
  },
  "language_info": {
   "codemirror_mode": {
    "name": "ipython",
    "version": 3
   },
   "file_extension": ".py",
   "mimetype": "text/x-python",
   "name": "python",
   "nbconvert_exporter": "python",
   "pygments_lexer": "ipython3",
   "version": "3.12.1"
  }
 },
 "nbformat": 4,
 "nbformat_minor": 5
}
