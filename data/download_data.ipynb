{
 "cells": [
  {
   "cell_type": "code",
   "execution_count": 33,
   "id": "8dafc1a6-6f43-44ad-a967-7793551d0dd1",
   "metadata": {},
   "outputs": [
    {
     "name": "stdout",
     "output_type": "stream",
     "text": [
      "PDF downloaded successfully.\n"
     ]
    }
   ],
   "source": [
    "import yaml\n",
    "import requests\n",
    "import os\n",
    "\n",
    "# Load the config file\n",
    "with open('../config.yaml', 'r') as file:\n",
    "    config = yaml.safe_load(file)\n",
    "\n",
    "pdf_url = config['pdf_url']\n",
    "\n",
    "# Use requests to download the PDF\n",
    "response = requests.get(pdf_url)\n",
    "\n",
    "# Check if the request was successful\n",
    "if response.status_code == 200:\n",
    "    # Save the PDF to a file\n",
    "    path = os.path.join(config['project']['root_dir'], config['data']['inbound_path'])\n",
    "    with open(os.path.join(path, 'gael.pdf'), 'wb') as pdf_file:\n",
    "        pdf_file.write(response.content)\n",
    "    print(\"PDF downloaded successfully.\")\n",
    "else:\n",
    "    print(\"Failed to download PDF. Status code:\", response.status_code)\n"
   ]
  }
 ],
 "metadata": {
  "kernelspec": {
   "display_name": "GaelRag (LlamaIndex)",
   "language": "python",
   "name": "gaelrag"
  },
  "language_info": {
   "codemirror_mode": {
    "name": "ipython",
    "version": 3
   },
   "file_extension": ".py",
   "mimetype": "text/x-python",
   "name": "python",
   "nbconvert_exporter": "python",
   "pygments_lexer": "ipython3",
   "version": "3.12.1"
  }
 },
 "nbformat": 4,
 "nbformat_minor": 5
}
